{
 "cells": [
  {
   "cell_type": "code",
   "execution_count": 2,
   "id": "009be31b",
   "metadata": {},
   "outputs": [],
   "source": [
    "import nltk\n",
    "from nltk.corpus import words\n",
    "from nltk.metrics.distance import edit_distance\n",
    "from string import punctuation\n",
    "\n"
   ]
  },
  {
   "cell_type": "code",
   "execution_count": 12,
   "id": "4afe3f9a",
   "metadata": {},
   "outputs": [
    {
     "name": "stderr",
     "output_type": "stream",
     "text": [
      "[nltk_data] Downloading package words to\n",
      "[nltk_data]     C:\\Users\\shabe\\AppData\\Roaming\\nltk_data...\n",
      "[nltk_data]   Package words is already up-to-date!\n",
      "[nltk_data] Downloading package stopwords to\n",
      "[nltk_data]     C:\\Users\\shabe\\AppData\\Roaming\\nltk_data...\n",
      "[nltk_data]   Package stopwords is already up-to-date!\n",
      "[nltk_data] Downloading package punkt to\n",
      "[nltk_data]     C:\\Users\\shabe\\AppData\\Roaming\\nltk_data...\n",
      "[nltk_data]   Unzipping tokenizers\\punkt.zip.\n",
      "[nltk_data] Downloading package wordnet to\n",
      "[nltk_data]     C:\\Users\\shabe\\AppData\\Roaming\\nltk_data...\n",
      "[nltk_data] Downloading package omw-1.4 to\n",
      "[nltk_data]     C:\\Users\\shabe\\AppData\\Roaming\\nltk_data...\n"
     ]
    },
    {
     "data": {
      "text/plain": [
       "True"
      ]
     },
     "execution_count": 12,
     "metadata": {},
     "output_type": "execute_result"
    }
   ],
   "source": [
    "# Download the list of words from NLTK\n",
    "nltk.download('words')\n",
    "nltk.download('stopwords')\n",
    "nltk.download('punkt')\n",
    "nltk.download('wordnet')\n",
    "nltk.download('omw-1.4')\n"
   ]
  },
  {
   "cell_type": "code",
   "execution_count": 13,
   "id": "e770d9ad",
   "metadata": {},
   "outputs": [],
   "source": [
    "# Define a function to get a list of English words with normalized casing\n",
    "def get_normalized_words():\n",
    "    word_list = words.words()\n",
    "    # Normalize the case and remove duplicates\n",
    "    normalized_words = set(word.lower() for word in word_list)\n",
    "    return normalized_words\n",
    "\n"
   ]
  },
  {
   "cell_type": "code",
   "execution_count": 14,
   "id": "c3513b19",
   "metadata": {},
   "outputs": [],
   "source": [
    "# Define a function to get NLTK's stopwords and punctuation as a set\n",
    "def get_stop_words():\n",
    "    stop_words = set(nltk.corpus.stopwords.words('english'))\n",
    "    # Add all punctuations to the set of stopwords\n",
    "    stop_words.update(punctuation)\n",
    "    return stop_words\n",
    "\n"
   ]
  },
  {
   "cell_type": "code",
   "execution_count": 15,
   "id": "8198eeb7",
   "metadata": {},
   "outputs": [],
   "source": [
    "# Define a function to find the closest valid word based on edit distance\n",
    "def get_closest_word(term, valid_words):\n",
    "    # Only consider the first 20000 words from the valid words for efficiency\n",
    "    valid_subset = list(valid_words)[:20000]\n",
    "    distances = {valid_word: edit_distance(term, valid_word) for valid_word in valid_subset}\n",
    "    closest_word = min(distances, key=distances.get)\n",
    "    return closest_word\n",
    "\n"
   ]
  },
  {
   "cell_type": "code",
   "execution_count": 18,
   "id": "f53f4e53",
   "metadata": {},
   "outputs": [],
   "source": [
    "# Define a function to correct spelling in a given sentence\n",
    "def correct_spelling(sentence, valid_words, stop_words):\n",
    "    # Tokenize the sentence and make all terms lowercase\n",
    "    tokens = nltk.word_tokenize(sentence.lower())\n",
    "    corrected_words = []\n",
    "    \n",
    "    for term in tokens:\n",
    "        # Check if term is a stop word or in the list of valid words\n",
    "        if term in stop_words or term in valid_words:\n",
    "            corrected_words.append(term)\n",
    "        else:\n",
    "            # Get the closest valid word if term is not valid\n",
    "            corrected_word = get_closest_word(term, valid_words)\n",
    "            corrected_words.append(corrected_word)\n",
    "            \n",
    "    # Return the joined string as the corrected sentence\n",
    "    return ' '.join(corrected_words)\n",
    "\n"
   ]
  },
  {
   "cell_type": "code",
   "execution_count": 19,
   "id": "1f2e8313",
   "metadata": {},
   "outputs": [
    {
     "data": {
      "text/plain": [
       "'the new anaces is great'"
      ]
     },
     "execution_count": 19,
     "metadata": {},
     "output_type": "execute_result"
    }
   ],
   "source": [
    "# Get the list of valid words and stop words\n",
    "valid_words = get_normalized_words()\n",
    "stop_words = get_stop_words()\n",
    "\n",
    "# Define the input sentence to be corrected\n",
    "input_sentence = \"The new abacos is great\"\n",
    "\n",
    "# Perform the correction\n",
    "corrected_sentence = correct_spelling(input_sentence, valid_words, stop_words)\n",
    "corrected_sentence"
   ]
  },
  {
   "cell_type": "code",
   "execution_count": null,
   "id": "a66c174c",
   "metadata": {},
   "outputs": [],
   "source": []
  }
 ],
 "metadata": {
  "kernelspec": {
   "display_name": "Python 3 (ipykernel)",
   "language": "python",
   "name": "python3"
  },
  "language_info": {
   "codemirror_mode": {
    "name": "ipython",
    "version": 3
   },
   "file_extension": ".py",
   "mimetype": "text/x-python",
   "name": "python",
   "nbconvert_exporter": "python",
   "pygments_lexer": "ipython3",
   "version": "3.11.4"
  }
 },
 "nbformat": 4,
 "nbformat_minor": 5
}
