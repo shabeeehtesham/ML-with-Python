{
 "cells": [
  {
   "cell_type": "markdown",
   "id": "46679763",
   "metadata": {},
   "source": [
    "# Develop a DCGAN model for CIFAR-10 small object Photograph Dataset, for implement this model - create a generator and discriminator model and then generate the new set of fake images to ensure the GAN outcome."
   ]
  },
  {
   "cell_type": "code",
   "execution_count": 1,
   "id": "0c8139fb",
   "metadata": {},
   "outputs": [],
   "source": [
    "import tensorflow as tf\n",
    "from tensorflow.keras import layers, models\n",
    "from tensorflow.keras.datasets import cifar10\n",
    "import numpy as np\n",
    "import matplotlib.pyplot as plt"
   ]
  },
  {
   "cell_type": "code",
   "execution_count": 2,
   "id": "0b64bfcd",
   "metadata": {},
   "outputs": [],
   "source": [
    "# Load and preprocess the CIFAR-10 dataset\n",
    "(train_images, _), (_, _) = cifar10.load_data()\n",
    "train_images = (train_images - 127.5) / 127.5  # Normalize to [-1, 1]"
   ]
  },
  {
   "cell_type": "code",
   "execution_count": 3,
   "id": "c1223eee",
   "metadata": {},
   "outputs": [],
   "source": [
    "# Generator model\n",
    "def build_generator(latent_dim):\n",
    "    model = models.Sequential()\n",
    "    model.add(layers.Dense(4 * 4 * 256, input_dim=latent_dim))\n",
    "    model.add(layers.Reshape((4, 4, 256)))\n",
    "    model.add(layers.Conv2DTranspose(128, kernel_size=4, strides=2, padding='same'))\n",
    "    model.add(layers.BatchNormalization())\n",
    "    model.add(layers.LeakyReLU(alpha=0.2))\n",
    "    model.add(layers.Conv2DTranspose(64, kernel_size=4, strides=2, padding='same'))\n",
    "    model.add(layers.BatchNormalization())\n",
    "    model.add(layers.LeakyReLU(alpha=0.2))\n",
    "    model.add(layers.Conv2DTranspose(3, kernel_size=4, strides=2, padding='same', activation='tanh'))\n",
    "    return model"
   ]
  },
  {
   "cell_type": "code",
   "execution_count": 4,
   "id": "3d800f00",
   "metadata": {},
   "outputs": [],
   "source": [
    "# Discriminator model\n",
    "def build_discriminator(img_shape):\n",
    "    model = models.Sequential()\n",
    "    model.add(layers.Conv2D(64, kernel_size=3, strides=2, padding='same', input_shape=img_shape))\n",
    "    model.add(layers.LeakyReLU(alpha=0.2))\n",
    "    model.add(layers.Dropout(0.4))\n",
    "    model.add(layers.Conv2D(128, kernel_size=3, strides=2, padding='same'))\n",
    "    model.add(layers.BatchNormalization())\n",
    "    model.add(layers.LeakyReLU(alpha=0.2))\n",
    "    model.add(layers.Dropout(0.4))\n",
    "    model.add(layers.Conv2D(256, kernel_size=3, strides=2, padding='same'))\n",
    "    model.add(layers.BatchNormalization())\n",
    "    model.add(layers.LeakyReLU(alpha=0.2))\n",
    "    model.add(layers.Dropout(0.4))\n",
    "    model.add(layers.Flatten())\n",
    "    model.add(layers.Dense(1, activation='sigmoid'))\n",
    "    return model"
   ]
  },
  {
   "cell_type": "code",
   "execution_count": 5,
   "id": "80d0649a",
   "metadata": {},
   "outputs": [],
   "source": [
    "# Combine generator and discriminator into a GAN model\n",
    "def build_gan(generator, discriminator):\n",
    "    discriminator.trainable = False\n",
    "    model = models.Sequential()\n",
    "    model.add(generator)\n",
    "    model.add(discriminator)\n",
    "    return model"
   ]
  },
  {
   "cell_type": "code",
   "execution_count": 6,
   "id": "ec462690",
   "metadata": {},
   "outputs": [],
   "source": [
    "# Set parameters\n",
    "latent_dim = 100\n",
    "img_shape = (32, 32, 3)"
   ]
  },
  {
   "cell_type": "code",
   "execution_count": 7,
   "id": "9d290153",
   "metadata": {},
   "outputs": [],
   "source": [
    "# Build and compile the discriminator\n",
    "discriminator = build_discriminator(img_shape)\n",
    "discriminator.compile(loss='binary_crossentropy', optimizer=tf.keras.optimizers.Adam(0.0002, 0.5), metrics=['accuracy'])"
   ]
  },
  {
   "cell_type": "code",
   "execution_count": 8,
   "id": "47319c3e",
   "metadata": {},
   "outputs": [],
   "source": [
    "# Build the generator\n",
    "generator = build_generator(latent_dim)"
   ]
  },
  {
   "cell_type": "code",
   "execution_count": 9,
   "id": "ef75b68b",
   "metadata": {},
   "outputs": [],
   "source": [
    "# Build and compile the GAN model\n",
    "discriminator.trainable = False\n",
    "gan = build_gan(generator, discriminator)\n",
    "gan.compile(loss='binary_crossentropy', optimizer=tf.keras.optimizers.Adam(0.0002, 0.5))"
   ]
  },
  {
   "cell_type": "code",
   "execution_count": 10,
   "id": "cd154825",
   "metadata": {},
   "outputs": [],
   "source": [
    "# Training the GAN\n",
    "epochs = 30000\n",
    "batch_size = 64\n",
    "half_batch = batch_size // 2"
   ]
  },
  {
   "cell_type": "code",
   "execution_count": 11,
   "id": "020b2244",
   "metadata": {},
   "outputs": [],
   "source": [
    "for epoch in range(epochs):\n",
    "    # Select a random half batch of real images\n",
    "    idx = np.random.randint(0, train_images.shape[0], half_batch)\n",
    "    real_imgs = train_images[idx]"
   ]
  },
  {
   "cell_type": "code",
   "execution_count": 12,
   "id": "4ac2fed6",
   "metadata": {},
   "outputs": [
    {
     "name": "stdout",
     "output_type": "stream",
     "text": [
      "1/1 [==============================] - 1s 1s/step\n"
     ]
    }
   ],
   "source": [
    "# Generate a half batch of fake images\n",
    "noise = np.random.normal(0, 1, (half_batch, latent_dim))\n",
    "fake_imgs = generator.predict(noise)"
   ]
  },
  {
   "cell_type": "code",
   "execution_count": 13,
   "id": "b8401eae",
   "metadata": {},
   "outputs": [],
   "source": [
    "# Train the discriminator on real and fake images\n",
    "d_loss_real = discriminator.train_on_batch(real_imgs, np.ones((half_batch, 1)))\n",
    "d_loss_fake = discriminator.train_on_batch(fake_imgs, np.zeros((half_batch, 1)))\n",
    "d_loss = 0.5 * np.add(d_loss_real, d_loss_fake)"
   ]
  },
  {
   "cell_type": "code",
   "execution_count": 14,
   "id": "0972f4ff",
   "metadata": {},
   "outputs": [],
   "source": [
    "# Train the generator to fool the discriminator\n",
    "noise = np.random.normal(0, 1, (batch_size, latent_dim))\n",
    "valid_labels = np.ones((batch_size, 1))\n",
    "g_loss = gan.train_on_batch(noise, valid_labels)"
   ]
  },
  {
   "cell_type": "code",
   "execution_count": 15,
   "id": "b742255d",
   "metadata": {},
   "outputs": [],
   "source": [
    "# Print progress and save generated images at intervals\n",
    "if epoch % 100 == 0:\n",
    "    print(f\"Epoch {epoch}, [D loss: {d_loss[0]} | D accuracy: {100 * d_loss[1]}] [G loss: {g_loss}]\")"
   ]
  },
  {
   "cell_type": "code",
   "execution_count": 16,
   "id": "f49bc0e3",
   "metadata": {},
   "outputs": [],
   "source": [
    "# Save generated images\n",
    "if epoch % 1000 == 0:\n",
    "    save_path = f\"generated_images/gen_img_epoch_{epoch}.png\"\n",
    "    gen_imgs = generator.predict(np.random.normal(0, 1, (16, latent_dim)))\n",
    "    gen_imgs = 0.5 * gen_imgs + 0.5  # Rescale to [0, 1]\n",
    "    fig, axs = plt.subplots(4, 4, figsize=(4, 4), sharex=True, sharey=True)\n",
    "    cnt = 0\n",
    "    for i in range(4):\n",
    "        for j in range(4):\n",
    "            axs[i, j].imshow(gen_imgs[cnt, :, :, :])\n",
    "            axs[i, j].axis('off')\n",
    "            cnt += 1\n",
    "    plt.savefig(save_path)\n",
    "    plt.close()"
   ]
  },
  {
   "cell_type": "code",
   "execution_count": null,
   "id": "0bb9e476",
   "metadata": {},
   "outputs": [],
   "source": []
  }
 ],
 "metadata": {
  "kernelspec": {
   "display_name": "Python 3 (ipykernel)",
   "language": "python",
   "name": "python3"
  },
  "language_info": {
   "codemirror_mode": {
    "name": "ipython",
    "version": 3
   },
   "file_extension": ".py",
   "mimetype": "text/x-python",
   "name": "python",
   "nbconvert_exporter": "python",
   "pygments_lexer": "ipython3",
   "version": "3.11.4"
  }
 },
 "nbformat": 4,
 "nbformat_minor": 5
}
